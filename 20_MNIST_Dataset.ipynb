{
 "cells": [
  {
   "cell_type": "markdown",
   "metadata": {},
   "source": [
    "# Keras 初心者ハンズオン\n",
    "# MNISTデータセットへのアクセス\n",
    "\n",
    "ここでは、MNISTと呼ばれる、よく知られる手書き文字データ・セットによって、ニューラルネットワークの流れを体感していただきましょう。"
   ]
  },
  {
   "cell_type": "markdown",
   "metadata": {},
   "source": [
    "## ページ内目次\n",
    "\n",
    "<ul>\n",
    "<li><a href=\"#MNISTデータセットを読み込む\">MNISTデータセットを読み込む</a></li>\n",
    "<li><a href=\"#MNISTデータセットの確認‐型と要素数‐(1/5)\">MNISTデータセットの確認‐型と要素数‐(1/5)</a></li>\n",
    "<li><a href=\"#MNISTデータセットの確認（2/5）\">MNISTデータセットの確認（2/5）</a></li>\n",
    "<li><a href=\"#MNISTデータセットの確認（3/5）\">MNISTデータセットの確認（3/5）</a></li>\n",
    "<li><a href=\"#MNISTデータセットの確認（4/5）\">MNISTデータセットの確認（4/5）</a></li>\n",
    "<li><a href=\"#MNISTデータセットの確認（5/5）\">MNISTデータセットの確認（5/5）</a></li>\n",
    "<li><a href=\"#ユーティリティ関数\">ユーティリティ関数</a></li>\n",
    "</ul>"
   ]
  },
  {
   "cell_type": "markdown",
   "metadata": {},
   "source": [
    "<hr>\n",
    "\n",
    "<div style=\"border: 1px solid; padding: 10px\">\n",
    "\n",
    "<p>MNIST（正式名称 THE MNIST DATABASE of handwritten digits) は、以下のURLで公開されている手書き持ちのデータ・セットです。</p>\n",
    "\n",
    "<p><a href=\"http://yann.lecun.com/exdb/mnist/\">http://yann.lecun.com/exdb/mnist/</a></p>\n",
    "    \n",
    "<p>このデータセットには、下記のものが含まれます。</p>\n",
    "\n",
    "<ul>\n",
    "<li>学習用の手書き文字 60,000 サンプル</li>\n",
    "<li>評価用の手書き文字 10,000 サンプル</li>\n",
    "</ul>\n",
    "\n",
    "<p>各手書き文字サンプルは、 タテ28ドット、ヨコ28ドット、合計784ドットで構成されています。また各手書き文字画像がどの文字であるかを示す「ラベル」が付けられています。ラベルは、学習時の教師信号として利用できるほか、評価時には得られた結果が目的値であるかを確認するために利用できます。</p>\n",
    "\n",
    "<p>まずは、MNISTデータセットをロードして、内容を確認してみましょう。</p>\n",
    "</div>"
   ]
  },
  {
   "cell_type": "markdown",
   "metadata": {},
   "source": [
    "<hr>\n",
    "\n",
    "# MNISTデータセットを読み込む"
   ]
  },
  {
   "cell_type": "markdown",
   "metadata": {},
   "source": [
    "使用するモジュールをインポート"
   ]
  },
  {
   "cell_type": "code",
   "execution_count": null,
   "metadata": {
    "collapsed": true
   },
   "outputs": [],
   "source": [
    "import numpy as np\n",
    "\n",
    "import matplotlib.pyplot as plt\n",
    "import matplotlib.cm as cm\n",
    "\n",
    "from keras.datasets import mnist\n",
    "from keras.utils import np_utils"
   ]
  },
  {
   "cell_type": "markdown",
   "metadata": {},
   "source": [
    "MNISTデータセット（訓練用、評価用）をロード"
   ]
  },
  {
   "cell_type": "code",
   "execution_count": null,
   "metadata": {
    "collapsed": true
   },
   "outputs": [],
   "source": [
    "(x_train, y_train), (x_test, y_test) = mnist.load_data()"
   ]
  },
  {
   "cell_type": "markdown",
   "metadata": {},
   "source": [
    "<div style=\"border: 1px solid; padding: 10px\">\n",
    "※ MNISTデータがローカルにキャッシュされていない場合はらダウンロードに時間がかかります\n",
    "</div>"
   ]
  },
  {
   "cell_type": "markdown",
   "metadata": {},
   "source": [
    "<hr>\n",
    "\n",
    "##  MNISTデータセットの確認‐型と要素数‐(1/5) "
   ]
  },
  {
   "cell_type": "code",
   "execution_count": null,
   "metadata": {
    "collapsed": true,
    "scrolled": true
   },
   "outputs": [],
   "source": [
    "type(x_train)"
   ]
  },
  {
   "cell_type": "markdown",
   "metadata": {},
   "source": [
    "train変数の形式を確認。 "
   ]
  },
  {
   "cell_type": "code",
   "execution_count": null,
   "metadata": {
    "collapsed": true
   },
   "outputs": [],
   "source": [
    "x_train.shape"
   ]
  },
  {
   "cell_type": "markdown",
   "metadata": {},
   "source": [
    "### 演習：test オブジェクトに含まれるタプルの数を確認\n",
    "まず、実行する前に確認データ総数から答えを考えてみてください。"
   ]
  },
  {
   "cell_type": "code",
   "execution_count": null,
   "metadata": {
    "collapsed": true,
    "scrolled": true
   },
   "outputs": [],
   "source": [
    "y_train.shape"
   ]
  },
  {
   "cell_type": "markdown",
   "metadata": {
    "collapsed": true
   },
   "source": [
    "<hr>\n",
    "\n",
    "## MNISTデータセットの確認 - 格納データ -（2/5）"
   ]
  },
  {
   "cell_type": "markdown",
   "metadata": {},
   "source": [
    "<div style=\"border: 1px solid; padding: 10px\">\n",
    "\n",
    "<p>Kerasで取得した各サンプルデータは、以下の意味を持ちます。</p>\n",
    "\n",
    "<ul>\n",
    "<li>x_train : 訓練用画像データを格納します。これらを答えへの傾向として使います。</li>\n",
    "<li>y_train : 訓練用クラスラベルを格納します。これらを答えとして使います。</li>\n",
    "<li>x_test  : 確認用画像データを格納します。</li>\n",
    "<li>y_test  : 確認用クラスラベルを格納します。</li>\n",
    "</ul>\n",
    "train系の画像データは2次元のピクセルの集合です。\n",
    "plt.imshow() 関数で表示します。\n",
    "</div>"
   ]
  },
  {
   "cell_type": "code",
   "execution_count": null,
   "metadata": {
    "collapsed": true
   },
   "outputs": [],
   "source": [
    "img_1d = x_train[0]\n",
    "img_1d.shape"
   ]
  },
  {
   "cell_type": "markdown",
   "metadata": {},
   "source": [
    "訓練データをmatplotlibを用いて画像として表示"
   ]
  },
  {
   "cell_type": "code",
   "execution_count": null,
   "metadata": {
    "collapsed": true,
    "scrolled": true
   },
   "outputs": [],
   "source": [
    "%matplotlib inline\n",
    "plt.imshow(x_train[0])"
   ]
  },
  {
   "cell_type": "markdown",
   "metadata": {},
   "source": [
    "さらに一手間かけてモノクロ表示化"
   ]
  },
  {
   "cell_type": "code",
   "execution_count": null,
   "metadata": {
    "collapsed": true
   },
   "outputs": [],
   "source": [
    "%matplotlib inline\n",
    "plt.imshow(x_train[0], cmap=cm.gray, vmin=0, vmax=255)"
   ]
  },
  {
   "cell_type": "markdown",
   "metadata": {},
   "source": [
    "これと対になっている目標値（クラスラベル）を表示する。"
   ]
  },
  {
   "cell_type": "code",
   "execution_count": null,
   "metadata": {
    "collapsed": true
   },
   "outputs": [],
   "source": [
    "y_train[0]"
   ]
  },
  {
   "cell_type": "markdown",
   "metadata": {},
   "source": [
    "<div style=\"border: 1px solid; padding: 10px\">\n",
    "目標値（クラスラベル）と画像の内容が一致していることを確認してください。\n",
    "</div>"
   ]
  },
  {
   "cell_type": "markdown",
   "metadata": {},
   "source": [
    "<hr>\n",
    "\n",
    "## MNISTデータセットの確認 - 値 -（3/5）"
   ]
  },
  {
   "cell_type": "markdown",
   "metadata": {},
   "source": [
    "<div style=\"border: 1px solid; padding: 10px\">\n",
    "<p>Kerasで取得した各サンプルデータは、以下のデータを格納しています。</p>\n",
    "\n",
    "<ul>\n",
    "<li>画像データ: 28x28ピクセルの明度値（0～255）</li>\n",
    "<li>ラベル: その画像データがどの数字かを、 0～9 の整数値として持つ</li>\n",
    "</ul>\n",
    "</div>"
   ]
  },
  {
   "cell_type": "markdown",
   "metadata": {},
   "source": [
    "訓練用データセット [123] (124番目)を表示"
   ]
  },
  {
   "cell_type": "code",
   "execution_count": null,
   "metadata": {
    "collapsed": true
   },
   "outputs": [],
   "source": [
    "x_train[123]"
   ]
  },
  {
   "cell_type": "markdown",
   "metadata": {},
   "source": [
    "テスト用データセット [456] (457番目)を表示"
   ]
  },
  {
   "cell_type": "code",
   "execution_count": null,
   "metadata": {
    "collapsed": true
   },
   "outputs": [],
   "source": [
    "x_test[456]"
   ]
  },
  {
   "cell_type": "markdown",
   "metadata": {},
   "source": [
    "<hr>\n",
    "\n",
    "## MNISTデータセットの確認 - 変形 -（4/5）"
   ]
  },
  {
   "cell_type": "markdown",
   "metadata": {},
   "source": [
    "## 次元数の変更"
   ]
  },
  {
   "cell_type": "markdown",
   "metadata": {},
   "source": [
    "このモデルは画像データを画像（二次元配列）として見る必要はありません。  \n",
    "むしろ、28x28行列を入力単位とすると扱いにくいので、1x784次元データに変換します。"
   ]
  },
  {
   "cell_type": "code",
   "execution_count": null,
   "metadata": {
    "collapsed": true
   },
   "outputs": [],
   "source": [
    "d1_x_train = x_train.reshape(60000, 784)\n",
    "d1_x_train.shape"
   ]
  },
  {
   "cell_type": "markdown",
   "metadata": {},
   "source": [
    "### 演習：テスト用データを表現変換する"
   ]
  },
  {
   "cell_type": "code",
   "execution_count": null,
   "metadata": {
    "collapsed": true
   },
   "outputs": [],
   "source": [
    "d1_x_test = x_test.reshape(10000, 784)\n",
    "d1_x_test.shape"
   ]
  },
  {
   "cell_type": "markdown",
   "metadata": {},
   "source": [
    "## 値の正規化"
   ]
  },
  {
   "cell_type": "markdown",
   "metadata": {},
   "source": [
    "訓練データの明度値（0～255）を0.0～1.0に正規化します。"
   ]
  },
  {
   "cell_type": "code",
   "execution_count": null,
   "metadata": {
    "collapsed": true
   },
   "outputs": [],
   "source": [
    "d1_x_train = d1_x_train.astype('float32')\n",
    "d1_x_train /= 255.0"
   ]
  },
  {
   "cell_type": "markdown",
   "metadata": {
    "collapsed": true
   },
   "source": [
    "確認データの明度値（0～255）を0.0～0.1に正規化します。"
   ]
  },
  {
   "cell_type": "code",
   "execution_count": null,
   "metadata": {
    "collapsed": true
   },
   "outputs": [],
   "source": [
    "d1_x_test = d1_x_test.astype('float32')\n",
    "d1_x_test /= 255.0"
   ]
  },
  {
   "cell_type": "markdown",
   "metadata": {},
   "source": [
    "<hr>\n",
    "\n",
    "## MNISTデータセットの確認 - 変換データ -（5/5）"
   ]
  },
  {
   "cell_type": "markdown",
   "metadata": {},
   "source": [
    "<div style=\"border: 1px solid; padding: 10px\">\n",
    "<p>以下のふたつの関数を定義します。</p>\n",
    "\n",
    "<ul>\n",
    "<li>ConvertMnist(sample, result): 計算用データと群を引数にとり、mnist8bit画像を返す</li>\n",
    "<li>ary2img(ary): サンプルデータを引数に取り、画像データを復元して返す</li>\n",
    "<li>show_img(sample, result, ref_no): 計算データと結果、それらの配列番号を取って、該当する画像と目標値を表示する</li>\n",
    "</ul>\n",
    "\n",
    "<p>のちに訓練の説明をする場合も、訓練結果を確認するためにこれらの関数を利用します。</p>\n",
    "※これらの関数群が必要になる辺り、KerasよりChainerのクラス設計の方が便利です。\n",
    "</div>"
   ]
  },
  {
   "cell_type": "markdown",
   "metadata": {},
   "source": [
    "## 変形・正規化関数"
   ]
  },
  {
   "cell_type": "markdown",
   "metadata": {},
   "source": [
    "目標値をone-hot vectorで表現します。  \n",
    "classesを省略してもnp_utils.to_categorical関数は与えられたリストからクラス数を推定してくれます。  \n",
    "ただし、与えたリスト内のデータが0～9の10個という保証がないので、10を与えておくことが安全です。"
   ]
  },
  {
   "cell_type": "code",
   "execution_count": null,
   "metadata": {
    "collapsed": true
   },
   "outputs": [],
   "source": [
    "def ConvertMnist(samples, results):\n",
    "    \"\"\"\n",
    "    画像データ28x28を一次元化、値を正規化(0.00～1.00)します。\n",
    "    結果データをone-hotエンコーディングする。\n",
    "    samples: (SAMPLES, ROW, COLUMN)のMNISTの傾向データ\n",
    "    results: MNIST訓練結果を格納するリスト\n",
    "    \"\"\"\n",
    "    max_data = 255.0\n",
    "    classes = 10\n",
    "    normalized_samples = samples.reshape(len(samples), samples.shape[1]*samples.shape[2])\n",
    "    normalized_samples = normalized_samples.astype('float32') / max_data\n",
    "    one_hot_encoding = np_utils.to_categorical(results, classes)\n",
    "    return (normalized_samples, one_hot_encoding)"
   ]
  },
  {
   "cell_type": "code",
   "execution_count": null,
   "metadata": {
    "collapsed": true
   },
   "outputs": [],
   "source": [
    "(d1_x_train, d1_y_train)= ConvertMinist(x_train, y_train)"
   ]
  },
  {
   "cell_type": "code",
   "execution_count": null,
   "metadata": {
    "collapsed": true,
    "scrolled": true
   },
   "outputs": [],
   "source": [
    "print(d1_x_train.shape)\n",
    "print(d1_x_train)"
   ]
  },
  {
   "cell_type": "markdown",
   "metadata": {},
   "source": [
    "## 復元関数"
   ]
  },
  {
   "cell_type": "code",
   "execution_count": null,
   "metadata": {
    "collapsed": true
   },
   "outputs": [],
   "source": [
    "import PIL.Image as Image\n",
    "def ary2img(d):\n",
    "    \"\"\"\n",
    "    与えられた手書き文字サンプルデータのうち、画像部分を(28, 28)画像に変換して返します\n",
    "    入力値は 0.00~1.00 にスケーリングされていますが、これを 0 ~ 255 の整数をスケーリングし\n",
    "    一般的な8ビットのモノクロ画像に変換します\n",
    "    \"\"\"\n",
    "    # (1, 28, 28) の次元数の画像（0.00~1.00)を次元数(28, 28)に変換します\n",
    "    # 明るさを0~255にスケーリングします\n",
    "    img_2d = d.reshape(28, 28) * 255\n",
    "    \n",
    "    # 配列を8ビットに整数に変換し、Imageオブジェクトに変換します\n",
    "    img_2d_u8 = img_2d.astype(np.uint8)\n",
    "    return Image.fromarray(img_2d_u8)"
   ]
  },
  {
   "cell_type": "code",
   "execution_count": null,
   "metadata": {},
   "outputs": [],
   "source": [
    "ary2img(d1_x_train[100])"
   ]
  },
  {
   "cell_type": "markdown",
   "metadata": {
    "collapsed": true
   },
   "source": [
    "# 表示関数"
   ]
  },
  {
   "cell_type": "code",
   "execution_count": null,
   "metadata": {
    "collapsed": true
   },
   "outputs": [],
   "source": [
    "from IPython.display import display\n",
    "def show(x,y,no):\n",
    "    actual_class = y[no]\n",
    "    d1_image = ary2img(x[no])\n",
    "    \n",
    "    print(actual_class)\n",
    "    display(d1_image)"
   ]
  },
  {
   "cell_type": "code",
   "execution_count": null,
   "metadata": {},
   "outputs": [],
   "source": [
    "show(d1_x_train, y_train, 350)"
   ]
  },
  {
   "cell_type": "markdown",
   "metadata": {},
   "source": [
    "<hr>\n",
    "\n",
    "## 演習\n",
    "\n",
    "テスト用データセットから1234番目、 5678番目のサンプルを表示してみてください。"
   ]
  },
  {
   "cell_type": "code",
   "execution_count": null,
   "metadata": {},
   "outputs": [],
   "source": [
    "samples = [ 1234, 5678 ]\n",
    "for no in samples:\n",
    "    show(d1_x_test, y_test, no)\n",
    "\n"
   ]
  },
  {
   "cell_type": "code",
   "execution_count": null,
   "metadata": {},
   "outputs": [],
   "source": [
    "samples = range(10,20)\n",
    "for no in samples:\n",
    "    show(d1_x_train, y_train, no)"
   ]
  }
 ],
 "metadata": {
  "kernelspec": {
   "display_name": "Python 3",
   "language": "python",
   "name": "python3"
  },
  "language_info": {
   "codemirror_mode": {
    "name": "ipython",
    "version": 3
   },
   "file_extension": ".py",
   "mimetype": "text/x-python",
   "name": "python",
   "nbconvert_exporter": "python",
   "pygments_lexer": "ipython3",
   "version": "3.5.4"
  }
 },
 "nbformat": 4,
 "nbformat_minor": 2
}
